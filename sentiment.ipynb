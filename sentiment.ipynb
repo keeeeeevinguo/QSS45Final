{
 "cells": [
  {
   "cell_type": "code",
   "execution_count": 1,
   "metadata": {},
   "outputs": [],
   "source": [
    "from transformers import pipeline\n",
    "import pandas as pd\n",
    "\n",
    "\n"
   ]
  },
  {
   "cell_type": "code",
   "execution_count": null,
   "metadata": {},
   "outputs": [],
   "source": [
    "\n",
    "df = pd.read_csv('hockey_cleaned.csv')  \n",
    "df = df[['text']]  \n",
    "df[\"trunc_text\"] = df.text.apply(lambda x: x[:500])\n",
    "\n",
    "# Load a pre-trained sentiment analysis model\n",
    "sentiment_analysis = pipeline(\"sentiment-analysis\", model=\"nlptown/bert-base-multilingual-uncased-sentiment\")\n",
    "\n",
    "\n",
    "def truncate_text(text, max_length=512):\n",
    "    tokens = text.split()\n",
    "    if len(tokens) > max_length:\n",
    "        return ' '.join(tokens[:max_length])\n",
    "    return text\n",
    "\n",
    "# Perform sentiment analysis\n",
    "df['sentiment'] = df['trunc_text'].apply(lambda x: sentiment_analysis(x)[0]['label'])\n",
    "\n",
    "\n",
    "\n",
    "\n",
    "df.to_csv('hockey_sentiment.csv', index=False)\n"
   ]
  },
  {
   "cell_type": "code",
   "execution_count": null,
   "metadata": {},
   "outputs": [],
   "source": []
  }
 ],
 "metadata": {
  "kernelspec": {
   "display_name": "Python 3",
   "language": "python",
   "name": "python3"
  },
  "language_info": {
   "codemirror_mode": {
    "name": "ipython",
    "version": 3
   },
   "file_extension": ".py",
   "mimetype": "text/x-python",
   "name": "python",
   "nbconvert_exporter": "python",
   "pygments_lexer": "ipython3",
   "version": "3.8.8"
  }
 },
 "nbformat": 4,
 "nbformat_minor": 2
}
